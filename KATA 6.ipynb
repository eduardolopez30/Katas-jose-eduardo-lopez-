{
 "cells": [
  {
   "cell_type": "markdown",
   "metadata": {},
   "source": [
    "Crear y usar listas de python"
   ]
  },
  {
   "cell_type": "code",
   "execution_count": 26,
   "metadata": {},
   "outputs": [
    {
     "name": "stdout",
     "output_type": "stream",
     "text": [
      "['Mercury', 'Venus', 'Earth', 'Mars', 'Jupiter', 'Saturn', 'Uranus', 'Neptune', 'Pluton']\n",
      "Mars\n",
      "planetas contados 9\n",
      "estos son los planetas mas cercanos al sol antes de Jupiter\n",
      "['Mercury', 'Venus', 'Earth', 'Mars']\n",
      "estos son los planetas mas alejados al sol despues de Jupiter\n",
      "['Saturn', 'Uranus', 'Neptune', 'Pluton']\n"
     ]
    }
   ],
   "source": [
    "planets = ['Mercury', 'Venus', 'Earth', 'Mars', 'Jupiter', 'Saturn', 'Uranus', 'Neptune']\n",
    "planets.append('Pluton')\n",
    "print(planets)\n",
    "\n",
    "planeta = input('ingresa el nombre de un planeta, recuerda que la primera debe llevar mayuscula ')\n",
    "print(planets[3])\n",
    "numero_de_planetas = len(planets)\n",
    "print(f'planetas contados {numero_de_planetas}')\n",
    "\n",
    "indice_planeta = planets.index(planeta)\n",
    "print('estos son los planetas mas cercanos al sol antes de ' + planeta)\n",
    "print(planets[0:indice_planeta])\n",
    "\n",
    "print('estos son los planetas mas alejados al sol despues de ' + planeta)\n",
    "print(planets[indice_planeta + 1:10])\n",
    "\n",
    "\n"
   ]
  }
 ],
 "metadata": {
  "interpreter": {
   "hash": "b89b5cfaba6639976dc87ff2fec6d58faec662063367e2c229c520fe71072417"
  },
  "kernelspec": {
   "display_name": "Python 3.10.2 64-bit",
   "language": "python",
   "name": "python3"
  },
  "language_info": {
   "codemirror_mode": {
    "name": "ipython",
    "version": 3
   },
   "file_extension": ".py",
   "mimetype": "text/x-python",
   "name": "python",
   "nbconvert_exporter": "python",
   "pygments_lexer": "ipython3",
   "version": "3.10.2"
  },
  "orig_nbformat": 4
 },
 "nbformat": 4,
 "nbformat_minor": 2
}
