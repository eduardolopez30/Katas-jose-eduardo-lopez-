{
 "cells": [
  {
   "cell_type": "markdown",
   "metadata": {},
   "source": [
    "Hola de Nuevo, este es el sistema de advertencia a un impacto que podria ser inminente a la tierra por favor sigue las intrucciones y veras las advertencias correspondientes a el asteroide que se pueda aproximar a la tierra "
   ]
  },
  {
   "cell_type": "code",
   "execution_count": 99,
   "metadata": {},
   "outputs": [
    {
     "name": "stdout",
     "output_type": "stream",
     "text": [
      "esto representa un grave riesgo!!!!!!!\n"
     ]
    }
   ],
   "source": [
    "Asteroide = 26\n",
    "if Asteroide > 25:\n",
    "            if Asteroide < 1000:\n",
    "                print (\"esto representa un grave riesgo!!!!!!!\")\n",
    "            else:\n",
    "                print(\"esto no representa ningun riesgo\")\n",
    "elif Asteroide < 25:\n",
    "    print(\"esto no representa ningun riesgo\") \n",
    "\n",
    "               \n",
    "\n",
    "    "
   ]
  },
  {
   "cell_type": "markdown",
   "metadata": {},
   "source": [
    "Ahora comprobaremos la velocidad del asteroide"
   ]
  },
  {
   "cell_type": "code",
   "execution_count": 100,
   "metadata": {},
   "outputs": [
    {
     "name": "stdout",
     "output_type": "stream",
     "text": [
      "no hay nada que temer\n"
     ]
    }
   ],
   "source": [
    "velocidad = 20\n",
    "if velocidad > 25:\n",
    "    print (\"se aproxima muy rapido, cuidado!!!!!!\")\n",
    "else:\n",
    "    print (\"no hay nada que temer\")"
   ]
  },
  {
   "cell_type": "markdown",
   "metadata": {},
   "source": [
    "veamos si este asteroide trae una sorpresa consigo"
   ]
  },
  {
   "cell_type": "code",
   "execution_count": 101,
   "metadata": {},
   "outputs": [
    {
     "name": "stdout",
     "output_type": "stream",
     "text": [
      "mira el cielo!!!!!\n"
     ]
    }
   ],
   "source": [
    "if velocidad == 20:\n",
    "    print (\"mira el cielo!!!!!\" )\n",
    "else: \n",
    "    print(\"rayos, ese meteorito no venia preparado con la sorpresa\")"
   ]
  }
 ],
 "metadata": {
  "interpreter": {
   "hash": "004d37c5a0138a2647b69f0cb8f65924087286645ec6d0150c2a0eb80c419b77"
  },
  "kernelspec": {
   "display_name": "Python 3.10.2 64-bit (windows store)",
   "language": "python",
   "name": "python3"
  },
  "language_info": {
   "codemirror_mode": {
    "name": "ipython",
    "version": 3
   },
   "file_extension": ".py",
   "mimetype": "text/x-python",
   "name": "python",
   "nbconvert_exporter": "python",
   "pygments_lexer": "ipython3",
   "version": "3.10.2"
  },
  "orig_nbformat": 4
 },
 "nbformat": 4,
 "nbformat_minor": 2
}
