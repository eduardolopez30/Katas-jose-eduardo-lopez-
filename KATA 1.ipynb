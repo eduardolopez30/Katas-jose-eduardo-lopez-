{
 "cells": [
  {
   "cell_type": "markdown",
   "metadata": {},
   "source": [
    "## Kata 1\n",
    "\n",
    "mi primer programa"
   ]
  },
  {
   "cell_type": "code",
   "execution_count": 25,
   "metadata": {},
   "outputs": [
    {
     "name": "stdout",
     "output_type": "stream",
     "text": [
      "bienvenid@ a mi primer programa\n",
      "me gustaria saber cual es tu nombre\n",
      "muchas gracias por revisar mi trabajo LILI\n",
      "Hoy es: 2022-02-12\n"
     ]
    }
   ],
   "source": [
    "from datetime import date\n",
    "\n",
    "print('bienvenid@ a mi primer programa')\n",
    "print('me gustaria saber cual es tu nombre')\n",
    "nombre = input('escribe tu nombre aqui (o como quieres que te llame): ')\n",
    "print('muchas gracias por revisar mi trabajo ' + nombre)\n",
    "    \n",
    "print(\"Hoy es: \" + str(date.today()))\n",
    "\n"
   ]
  },
  {
   "cell_type": "code",
   "execution_count": 26,
   "metadata": {},
   "outputs": [
    {
     "name": "stdout",
     "output_type": "stream",
     "text": [
      "vamos a empezar con una pequeña calculadora basica\n",
      "vamos a sumar un par de numeros, los que quieras\n",
      "gracias por eso, el resultado es: \n",
      "60\n"
     ]
    }
   ],
   "source": [
    "print('vamos a empezar con una pequeña calculadora basica')\n",
    "print('vamos a sumar un par de numeros, los que quieras')\n",
    "numero1 = input('que numero vamos a sumar? ')\n",
    "numero2 = input('el siguiete nuemro es? ')\n",
    "print('gracias por eso, el resultado es: ')\n",
    "print(int(numero1)+ int(numero2))\n"
   ]
  },
  {
   "cell_type": "code",
   "execution_count": 27,
   "metadata": {},
   "outputs": [
    {
     "name": "stdout",
     "output_type": "stream",
     "text": [
      "ahora un dato interesante, ¿cuantos años luz son 11 parsec?\n",
      "11 parsec, son 35.877159999999996 lightyears\n"
     ]
    }
   ],
   "source": [
    "print('ahora un dato interesante, ¿cuantos años luz son 11 parsec?')\n",
    "parsec = 11\n",
    "lightyears = 3.26156 * parsec\n",
    "\n",
    "print(str(parsec) + \" parsec, son \" + str(lightyears) + \" lightyears\")"
   ]
  }
 ],
 "metadata": {
  "interpreter": {
   "hash": "4377b27f8e4686739d02d62161872a63796ae6f0ed9f0699fce35597ef48d50c"
  },
  "kernelspec": {
   "display_name": "Python 3.10.2 64-bit",
   "language": "python",
   "name": "python3"
  },
  "language_info": {
   "codemirror_mode": {
    "name": "ipython",
    "version": 3
   },
   "file_extension": ".py",
   "mimetype": "text/x-python",
   "name": "python",
   "nbconvert_exporter": "python",
   "pygments_lexer": "ipython3",
   "version": "3.10.2"
  },
  "orig_nbformat": 4
 },
 "nbformat": 4,
 "nbformat_minor": 2
}
