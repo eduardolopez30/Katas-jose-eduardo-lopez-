{
 "cells": [
  {
   "cell_type": "markdown",
   "metadata": {},
   "source": [
    "Vamos a transformar cadenas"
   ]
  },
  {
   "cell_type": "code",
   "execution_count": 18,
   "metadata": {},
   "outputs": [
    {
     "name": "stdout",
     "output_type": "stream",
     "text": [
      "Interesting Facts About The Moon. The Moon Is Earth'S Only Satellite. There Are Several Interesting Facts About The Moon And How It Affects Life Here On Earth. \n",
      "On Average, The Moon Moves 4Cm Away From The Earth Every Year. This Yearly Drift Is Not Significant Enough To Cause Immediate Effects On Earth. The Highest Daylight Temperature Of The Moon Is 127 C.\n",
      "[\"Interesting facts about the Moon. The Moon is Earth's only satellite. There are several interesting facts about the Moon and how it affects life here on Earth. \", 'On average, the Moon moves 4cm away from the Earth every year. This yearly drift is not significant enough to cause immediate effects on Earth. The highest daylight temperature of the Moon is 127 C.']\n",
      "164\n",
      "326\n",
      "-1\n",
      "**************************************************************\n",
      "Interesting facts about the Moon. The Moon is Earth's only satellite. There are several interesting facts about the Moon and how it affects life here on Earth. \n",
      "On \n",
      ", the Moon moves 4cm away from the Earth every year. This yearly drift is not significant enough to cause immediate effects on Earth. The highest daylight temperature of the Moon is 127 C.\n",
      "!!!!!!!!!!!!!!!!!!!!!!!!!!!!!!!!!!!!!!!!!!!\n",
      "Interesting facts about the Moon. The Moon is Earth's only satellite. There are several interesting facts about the Moon and how it affects life here on Earth. \n",
      "On average, the Moon moves 4cm away from the Earth every year. This yearly drift is not significant enough to cause immediate effects on Earth. The highest daylight \n",
      " of the Moon is 127 C.\n",
      " of the Moon is 127 Celcius.\n"
     ]
    }
   ],
   "source": [
    "text = \"\"\"Interesting facts about the Moon. The Moon is Earth's only satellite. There are several interesting facts about the Moon and how it affects life here on Earth. \n",
    "On average, the Moon moves 4cm away from the Earth every year. This yearly drift is not significant enough to cause immediate effects on Earth. The highest daylight temperature of the Moon is 127 C.\"\"\"\n",
    "\n",
    "\n",
    "print(text.title())\n",
    "print(text.split('\\n'))\n",
    "print(text.find('average'))\n",
    "print(text.find('temperature'))\n",
    "print(text.find('distance'))\n",
    "\n",
    "print('**************************************************************')\n",
    "\n",
    "for ciclo in text.split('average'):\n",
    "    if ciclo.find('average'):\n",
    "        print(ciclo)\n",
    "\n",
    "print('!!!!!!!!!!!!!!!!!!!!!!!!!!!!!!!!!!!!!!!!!!!')\n",
    "\n",
    "\n",
    "for ciclo in text.split('temperature'):\n",
    "    if ciclo.find('temperature'):\n",
    "        print(ciclo)\n",
    "\n",
    "print(ciclo.replace('C', 'Celcius'))\n",
    "        "
   ]
  },
  {
   "cell_type": "markdown",
   "metadata": {},
   "source": [
    "Parte 2"
   ]
  },
  {
   "cell_type": "code",
   "execution_count": 23,
   "metadata": {},
   "outputs": [
    {
     "name": "stdout",
     "output_type": "stream",
     "text": [
      "La Gravedad de Genimides es equivalente a 1.4300000000000002 en relacion a el planeta Marte\n"
     ]
    }
   ],
   "source": [
    "Nombre = \"Genimides\"\n",
    "Gravedad = 0.00143\n",
    "Planeta = \"Marte\"\n",
    "\n",
    "print(f\"La Gravedad de {Nombre} es equivalente a {Gravedad*1000} en relacion a el planeta {Planeta}\")"
   ]
  },
  {
   "cell_type": "markdown",
   "metadata": {},
   "source": [
    "Se realiza la prueba con los "
   ]
  }
 ],
 "metadata": {
  "interpreter": {
   "hash": "004d37c5a0138a2647b69f0cb8f65924087286645ec6d0150c2a0eb80c419b77"
  },
  "kernelspec": {
   "display_name": "Python 3.10.2 64-bit (windows store)",
   "language": "python",
   "name": "python3"
  },
  "language_info": {
   "codemirror_mode": {
    "name": "ipython",
    "version": 3
   },
   "file_extension": ".py",
   "mimetype": "text/x-python",
   "name": "python",
   "nbconvert_exporter": "python",
   "pygments_lexer": "ipython3",
   "version": "3.10.2"
  },
  "orig_nbformat": 4
 },
 "nbformat": 4,
 "nbformat_minor": 2
}
